{
  "cells": [
    {
      "cell_type": "code",
      "source": [
        "# Required libraries\n",
        "from sqlalchemy import create_engine, Column, Integer, String, Float, Sequence\n",
        "from sqlalchemy.ext.declarative import declarative_base\n",
        "from sqlalchemy.orm import sessionmaker\n",
        "\n",
        "# define the database and base class\n",
        "engine = create_engine('sqlite:///bank_accounts.db', echo=True)\n",
        "Base = declarative_base()\n",
        "\n",
        "# Create the Bankaccount class\n",
        "class BankAccount(Base):\n",
        "    __tablename__ = 'accounts'\n",
        "\n",
        "    id = Column(Integer, Sequence('account_id_seq'), primary_key=True)\n",
        "    account_holder = Column(String(50), nullable=False)\n",
        "    balance = Column(Float, default=0.0)\n",
        "\n",
        "    def __init__(self, account_holder: str, balance: float = 0.0):\n",
        "        self.account_holder = account_holder\n",
        "        self.balance = balance\n",
        "\n",
        "    def deposit(self, amount: float):\n",
        "        self.balance += amount\n",
        "        transaction = Transaction(account_id=self.id, amount=amount, type='deposit')\n",
        "        session.add(transaction)\n",
        "        session.commit()\n",
        "\n",
        "    def withdraw(self, amount: float):\n",
        "        if amount > self.balance:\n",
        "            print(\"Insufficient funds for withdrawal.\")\n",
        "        else:\n",
        "            self.balance -= amount\n",
        "            transaction = Transaction(account_id=self.id, amount=amount, type='withdrawal')\n",
        "            session.add(transaction)\n",
        "            session.commit()\n",
        "\n",
        "    def display_balance(self):\n",
        "        print(f\"Current balance for {self.account_holder}: pkr {self.balance:.2f}\")\n",
        "\n",
        "    def get_transaction_history(self):\n",
        "        transactions = session.query(Transaction).filter(Transaction.account_id == self.id).all()\n",
        "        for transaction in transactions:\n",
        "            print(f\"Transaction ID: {transaction.id}, Amount: {transaction.amount}, Type: {transaction.type}\")\n",
        "\n",
        "# Create the transacton table\n",
        "class Transaction(Base):\n",
        "    __tablename__ = 'transactions'\n",
        "\n",
        "    id = Column(Integer, Sequence('transaction_id_seq'), primary_key=True)\n",
        "    account_id = Column(Integer)\n",
        "    amount = Column(Float)\n",
        "    type = Column(String(10))\n",
        "\n",
        "    def __init__(self, account_id: int, amount: float, type: str):\n",
        "        self.account_id = account_id\n",
        "        self.amount = amount\n",
        "        self.type = type\n",
        "\n",
        "# Create the database tables\n",
        "Base.metadata.create_all(engine)\n",
        "\n",
        "# Set up the database session\n",
        "Session = sessionmaker(bind=engine)\n",
        "session = Session()\n"
      ],
      "outputs": [
        {
          "output_type": "stream",
          "name": "stdout",
          "text": "2024-11-03 18:31:06,651 INFO sqlalchemy.engine.Engine BEGIN (implicit)\n"
        },
        {
          "output_type": "stream",
          "name": "stderr",
          "text": "<ipython-input-17-8baf152553c6>:8: MovedIn20Warning: The ``declarative_base()`` function is now available as sqlalchemy.orm.declarative_base(). (deprecated since: 2.0) (Background on SQLAlchemy 2.0 at: https://sqlalche.me/e/b8d9)\n  Base = declarative_base()\nINFO:sqlalchemy.engine.Engine:BEGIN (implicit)\n"
        },
        {
          "output_type": "stream",
          "name": "stdout",
          "text": "2024-11-03 18:31:06,655 INFO sqlalchemy.engine.Engine PRAGMA main.table_info(\"accounts\")\n"
        },
        {
          "output_type": "stream",
          "name": "stderr",
          "text": "INFO:sqlalchemy.engine.Engine:PRAGMA main.table_info(\"accounts\")\n"
        },
        {
          "output_type": "stream",
          "name": "stdout",
          "text": "2024-11-03 18:31:06,659 INFO sqlalchemy.engine.Engine [raw sql] ()\n"
        },
        {
          "output_type": "stream",
          "name": "stderr",
          "text": "INFO:sqlalchemy.engine.Engine:[raw sql] ()\n"
        },
        {
          "output_type": "stream",
          "name": "stdout",
          "text": "2024-11-03 18:31:06,664 INFO sqlalchemy.engine.Engine PRAGMA main.table_info(\"transactions\")\n"
        },
        {
          "output_type": "stream",
          "name": "stderr",
          "text": "INFO:sqlalchemy.engine.Engine:PRAGMA main.table_info(\"transactions\")\n"
        },
        {
          "output_type": "stream",
          "name": "stdout",
          "text": "2024-11-03 18:31:06,666 INFO sqlalchemy.engine.Engine [raw sql] ()\n"
        },
        {
          "output_type": "stream",
          "name": "stderr",
          "text": "INFO:sqlalchemy.engine.Engine:[raw sql] ()\n"
        },
        {
          "output_type": "stream",
          "name": "stdout",
          "text": "2024-11-03 18:31:06,669 INFO sqlalchemy.engine.Engine COMMIT\n"
        },
        {
          "output_type": "stream",
          "name": "stderr",
          "text": "INFO:sqlalchemy.engine.Engine:COMMIT\n"
        }
      ],
      "execution_count": 17,
      "metadata": {
        "colab": {
          "base_uri": "https://localhost:8080/"
        },
        "id": "WSHpw2LIQDJD",
        "outputId": "3d315d5d-c3ab-4e49-f1f0-8c3d88e236f8"
      }
    },
    {
      "cell_type": "code",
      "source": [
        "# Create a bank account\n",
        "account = BankAccount(\"Anas\")\n",
        "session.add(account)  # Add account to session\n",
        "session.commit()  # Commit the new account to the database\n",
        "\n",
        "# Deposit money\n",
        "account.deposit(100)\n",
        "account.display_balance()\n",
        "\n",
        "# Withdraw money\n",
        "account.withdraw(30)\n",
        "account.display_balance()\n",
        "\n",
        "# Get transaction history\n",
        "account.get_transaction_history()\n"
      ],
      "outputs": [
        {
          "output_type": "stream",
          "name": "stdout",
          "text": "2024-11-03 18:31:12,837 INFO sqlalchemy.engine.Engine BEGIN (implicit)\n"
        },
        {
          "output_type": "stream",
          "name": "stderr",
          "text": "INFO:sqlalchemy.engine.Engine:BEGIN (implicit)\n"
        },
        {
          "output_type": "stream",
          "name": "stdout",
          "text": "2024-11-03 18:31:12,843 INFO sqlalchemy.engine.Engine INSERT INTO accounts (account_holder, balance) VALUES (?, ?)\n"
        },
        {
          "output_type": "stream",
          "name": "stderr",
          "text": "INFO:sqlalchemy.engine.Engine:INSERT INTO accounts (account_holder, balance) VALUES (?, ?)\n"
        },
        {
          "output_type": "stream",
          "name": "stdout",
          "text": "2024-11-03 18:31:12,846 INFO sqlalchemy.engine.Engine [generated in 0.00291s] ('Anas', 0.0)\n"
        },
        {
          "output_type": "stream",
          "name": "stderr",
          "text": "INFO:sqlalchemy.engine.Engine:[generated in 0.00291s] ('Anas', 0.0)\n"
        },
        {
          "output_type": "stream",
          "name": "stdout",
          "text": "2024-11-03 18:31:12,850 INFO sqlalchemy.engine.Engine COMMIT\n"
        },
        {
          "output_type": "stream",
          "name": "stderr",
          "text": "INFO:sqlalchemy.engine.Engine:COMMIT\n"
        },
        {
          "output_type": "stream",
          "name": "stdout",
          "text": "2024-11-03 18:31:12,861 INFO sqlalchemy.engine.Engine BEGIN (implicit)\n"
        },
        {
          "output_type": "stream",
          "name": "stderr",
          "text": "INFO:sqlalchemy.engine.Engine:BEGIN (implicit)\n"
        },
        {
          "output_type": "stream",
          "name": "stdout",
          "text": "2024-11-03 18:31:12,866 INFO sqlalchemy.engine.Engine SELECT accounts.id AS accounts_id, accounts.account_holder AS accounts_account_holder, accounts.balance AS accounts_balance \nFROM accounts \nWHERE accounts.id = ?\n"
        },
        {
          "output_type": "stream",
          "name": "stderr",
          "text": "INFO:sqlalchemy.engine.Engine:SELECT accounts.id AS accounts_id, accounts.account_holder AS accounts_account_holder, accounts.balance AS accounts_balance \nFROM accounts \nWHERE accounts.id = ?\n"
        },
        {
          "output_type": "stream",
          "name": "stdout",
          "text": "2024-11-03 18:31:12,868 INFO sqlalchemy.engine.Engine [generated in 0.00294s] (2,)\n"
        },
        {
          "output_type": "stream",
          "name": "stderr",
          "text": "INFO:sqlalchemy.engine.Engine:[generated in 0.00294s] (2,)\n"
        },
        {
          "output_type": "stream",
          "name": "stdout",
          "text": "2024-11-03 18:31:12,873 INFO sqlalchemy.engine.Engine UPDATE accounts SET balance=? WHERE accounts.id = ?\n"
        },
        {
          "output_type": "stream",
          "name": "stderr",
          "text": "INFO:sqlalchemy.engine.Engine:UPDATE accounts SET balance=? WHERE accounts.id = ?\n"
        },
        {
          "output_type": "stream",
          "name": "stdout",
          "text": "2024-11-03 18:31:12,875 INFO sqlalchemy.engine.Engine [generated in 0.00228s] (100.0, 2)\n"
        },
        {
          "output_type": "stream",
          "name": "stderr",
          "text": "INFO:sqlalchemy.engine.Engine:[generated in 0.00228s] (100.0, 2)\n"
        },
        {
          "output_type": "stream",
          "name": "stdout",
          "text": "2024-11-03 18:31:12,879 INFO sqlalchemy.engine.Engine INSERT INTO transactions (account_id, amount, type) VALUES (?, ?, ?)\n"
        },
        {
          "output_type": "stream",
          "name": "stderr",
          "text": "INFO:sqlalchemy.engine.Engine:INSERT INTO transactions (account_id, amount, type) VALUES (?, ?, ?)\n"
        },
        {
          "output_type": "stream",
          "name": "stdout",
          "text": "2024-11-03 18:31:12,881 INFO sqlalchemy.engine.Engine [generated in 0.00255s] (2, 100.0, 'deposit')\n"
        },
        {
          "output_type": "stream",
          "name": "stderr",
          "text": "INFO:sqlalchemy.engine.Engine:[generated in 0.00255s] (2, 100.0, 'deposit')\n"
        },
        {
          "output_type": "stream",
          "name": "stdout",
          "text": "2024-11-03 18:31:12,884 INFO sqlalchemy.engine.Engine COMMIT\n"
        },
        {
          "output_type": "stream",
          "name": "stderr",
          "text": "INFO:sqlalchemy.engine.Engine:COMMIT\n"
        },
        {
          "output_type": "stream",
          "name": "stdout",
          "text": "2024-11-03 18:31:12,894 INFO sqlalchemy.engine.Engine BEGIN (implicit)\n"
        },
        {
          "output_type": "stream",
          "name": "stderr",
          "text": "INFO:sqlalchemy.engine.Engine:BEGIN (implicit)\n"
        },
        {
          "output_type": "stream",
          "name": "stdout",
          "text": "2024-11-03 18:31:12,897 INFO sqlalchemy.engine.Engine SELECT accounts.id AS accounts_id, accounts.account_holder AS accounts_account_holder, accounts.balance AS accounts_balance \nFROM accounts \nWHERE accounts.id = ?\n"
        },
        {
          "output_type": "stream",
          "name": "stderr",
          "text": "INFO:sqlalchemy.engine.Engine:SELECT accounts.id AS accounts_id, accounts.account_holder AS accounts_account_holder, accounts.balance AS accounts_balance \nFROM accounts \nWHERE accounts.id = ?\n"
        },
        {
          "output_type": "stream",
          "name": "stdout",
          "text": "2024-11-03 18:31:12,899 INFO sqlalchemy.engine.Engine [cached since 0.03336s ago] (2,)\n"
        },
        {
          "output_type": "stream",
          "name": "stderr",
          "text": "INFO:sqlalchemy.engine.Engine:[cached since 0.03336s ago] (2,)\n"
        },
        {
          "output_type": "stream",
          "name": "stdout",
          "text": "Current balance for Anas: pkr 100.00\n2024-11-03 18:31:12,902 INFO sqlalchemy.engine.Engine UPDATE accounts SET balance=? WHERE accounts.id = ?\n"
        },
        {
          "output_type": "stream",
          "name": "stderr",
          "text": "INFO:sqlalchemy.engine.Engine:UPDATE accounts SET balance=? WHERE accounts.id = ?\n"
        },
        {
          "output_type": "stream",
          "name": "stdout",
          "text": "2024-11-03 18:31:12,904 INFO sqlalchemy.engine.Engine [cached since 0.03165s ago] (70.0, 2)\n"
        },
        {
          "output_type": "stream",
          "name": "stderr",
          "text": "INFO:sqlalchemy.engine.Engine:[cached since 0.03165s ago] (70.0, 2)\n"
        },
        {
          "output_type": "stream",
          "name": "stdout",
          "text": "2024-11-03 18:31:12,907 INFO sqlalchemy.engine.Engine INSERT INTO transactions (account_id, amount, type) VALUES (?, ?, ?)\n"
        },
        {
          "output_type": "stream",
          "name": "stderr",
          "text": "INFO:sqlalchemy.engine.Engine:INSERT INTO transactions (account_id, amount, type) VALUES (?, ?, ?)\n"
        },
        {
          "output_type": "stream",
          "name": "stdout",
          "text": "2024-11-03 18:31:12,909 INFO sqlalchemy.engine.Engine [cached since 0.03008s ago] (2, 30.0, 'withdrawal')\n"
        },
        {
          "output_type": "stream",
          "name": "stderr",
          "text": "INFO:sqlalchemy.engine.Engine:[cached since 0.03008s ago] (2, 30.0, 'withdrawal')\n"
        },
        {
          "output_type": "stream",
          "name": "stdout",
          "text": "2024-11-03 18:31:12,911 INFO sqlalchemy.engine.Engine COMMIT\n"
        },
        {
          "output_type": "stream",
          "name": "stderr",
          "text": "INFO:sqlalchemy.engine.Engine:COMMIT\n"
        },
        {
          "output_type": "stream",
          "name": "stdout",
          "text": "2024-11-03 18:31:12,921 INFO sqlalchemy.engine.Engine BEGIN (implicit)\n"
        },
        {
          "output_type": "stream",
          "name": "stderr",
          "text": "INFO:sqlalchemy.engine.Engine:BEGIN (implicit)\n"
        },
        {
          "output_type": "stream",
          "name": "stdout",
          "text": "2024-11-03 18:31:12,924 INFO sqlalchemy.engine.Engine SELECT accounts.id AS accounts_id, accounts.account_holder AS accounts_account_holder, accounts.balance AS accounts_balance \nFROM accounts \nWHERE accounts.id = ?\n"
        },
        {
          "output_type": "stream",
          "name": "stderr",
          "text": "INFO:sqlalchemy.engine.Engine:SELECT accounts.id AS accounts_id, accounts.account_holder AS accounts_account_holder, accounts.balance AS accounts_balance \nFROM accounts \nWHERE accounts.id = ?\n"
        },
        {
          "output_type": "stream",
          "name": "stdout",
          "text": "2024-11-03 18:31:12,926 INFO sqlalchemy.engine.Engine [cached since 0.0601s ago] (2,)\n"
        },
        {
          "output_type": "stream",
          "name": "stderr",
          "text": "INFO:sqlalchemy.engine.Engine:[cached since 0.0601s ago] (2,)\n"
        },
        {
          "output_type": "stream",
          "name": "stdout",
          "text": "Current balance for Anas: pkr 70.00\n2024-11-03 18:31:12,930 INFO sqlalchemy.engine.Engine SELECT transactions.id AS transactions_id, transactions.account_id AS transactions_account_id, transactions.amount AS transactions_amount, transactions.type AS transactions_type \nFROM transactions \nWHERE transactions.account_id = ?\n"
        },
        {
          "output_type": "stream",
          "name": "stderr",
          "text": "INFO:sqlalchemy.engine.Engine:SELECT transactions.id AS transactions_id, transactions.account_id AS transactions_account_id, transactions.amount AS transactions_amount, transactions.type AS transactions_type \nFROM transactions \nWHERE transactions.account_id = ?\n"
        },
        {
          "output_type": "stream",
          "name": "stdout",
          "text": "2024-11-03 18:31:12,933 INFO sqlalchemy.engine.Engine [generated in 0.00231s] (2,)\n"
        },
        {
          "output_type": "stream",
          "name": "stderr",
          "text": "INFO:sqlalchemy.engine.Engine:[generated in 0.00231s] (2,)\n"
        },
        {
          "output_type": "stream",
          "name": "stdout",
          "text": "Transaction ID: 3, Amount: 100.0, Type: deposit\nTransaction ID: 4, Amount: 30.0, Type: withdrawal\n"
        }
      ],
      "execution_count": 18,
      "metadata": {
        "colab": {
          "base_uri": "https://localhost:8080/"
        },
        "id": "ALO4i3O9SJ4L",
        "outputId": "0e84e3ed-9ca6-48fd-92cc-f769073d902a"
      }
    },
    {
      "cell_type": "code",
      "source": [],
      "outputs": [],
      "execution_count": null,
      "metadata": {
        "id": "iV4TkAgmSQEj"
      }
    }
  ],
  "metadata": {
    "colab": {
      "provenance": []
    },
    "kernelspec": {
      "name": "python",
      "language": "python",
      "display_name": "Pyolite (preview)"
    },
    "language_info": {
      "codemirror_mode": {
        "name": "python",
        "version": 3
      },
      "file_extension": ".py",
      "mimetype": "text/x-python",
      "name": "python",
      "nbconvert_exporter": "python",
      "pygments_lexer": "ipython3",
      "version": "3.8"
    },
    "kernel_info": {
      "name": "python"
    },
    "nteract": {
      "version": "nteract-front-end@1.0.0"
    }
  },
  "nbformat": 4,
  "nbformat_minor": 0
}